{
 "cells": [
  {
   "cell_type": "markdown",
   "metadata": {},
   "source": [
    "# <p style=\"background-color:#006D77;font-family:newtimeroman;color:#ffffff;font-size:150%;text-align:center;border-radius:10px 10px;\">Proyecto Clustering Clientes SuperMarket</p>\n",
    "---"
   ]
  },
  {
   "cell_type": "markdown",
   "metadata": {},
   "source": [
    "[![Clustering-numpy.png](https://i.postimg.cc/3Nh5ZW6t/Clustering-numpy.png)](https://postimg.cc/wywGqx9N)"
   ]
  },
  {
   "cell_type": "markdown",
   "metadata": {},
   "source": [
    "<div class=\"alert alert-block alert-info\" style=\"margin-top: 20px\">\n",
    "\n",
    "<font size = 3>\n",
    "    \n",
    "1. <a href=\"#sec_1\">Introducción</a>  \n",
    "2. <a href=\"#sec_2\">Exploración del set de datos</a>  \n",
    "3. <a href=\"#sec_3\">Análisis de los datos</a>  \n",
    "4. <a href=\"#sec_4\">Limpieza del set de datos</a>  \n",
    "5. <a href=\"#sec_5\">Análisis exploratorio inicial</a>\n",
    "6. <a href=\"#sec_6\">Pre-Procesamiento</a>\n",
    "7. <a href=\"#sec_7\">Clustering K-means</a>    \n",
    "8. <a href=\"#sec_8\">Conclusiones y Recomendaciones</a>     \n",
    "\n",
    " \n",
    "</font>\n",
    "</div>"
   ]
  },
  {
   "cell_type": "markdown",
   "metadata": {},
   "source": [
    "<a id='sec_1'></a>\n",
    "## `1. Introducción`\n",
    "`🔍 Segmentación Inteligente de Clientes  🔍` \n",
    "\n",
    "- En el dinámico mundo del comercio y los servicios, cada cliente es único y tiene sus propias necesidades, preferencias y comportamientos. 🛍️ Nuestro proyecto se enfoca en analizar un conjunto de datos detallado de clientes para identificar patrones y características clave que nos permitan agruparlos de manera eficiente. A través de técnicas avanzadas de clustering 🔗, exploramos atributos como el historial de compras 💳, y la edad de los clientes 📢\n",
    "\n",
    "- Con esta segmentación, buscamos crear perfiles de clientes que permitan personalizar ofertas, mejorar la experiencia del cliente y optimizar las estrategias de marketing. 🎯 Cada grupo de clientes tiene una historia que contar, y nuestro análisis nos ayuda a entenderla mejor, proporcionando una ventaja competitiva en el mercado. 📈✨\n",
    "\n",
    "**1.2. Recursos disponibles**\n",
    "- [Set de datos en tipo numpy](Data/dataset.npy)"
   ]
  },
  {
   "cell_type": "markdown",
   "metadata": {},
   "source": [
    "**1.3. Diccionario de datos disponibles**\n",
    "| **Clave** | **Descripción** | **Tipo de dato** |\n",
    "|---|---|---|\n",
    "| Edad | Edad de las personas | Int |\n",
    "| Nivel de Compras | Nivel de comppras en dolares | Float |"
   ]
  },
  {
   "cell_type": "markdown",
   "metadata": {},
   "source": [
    "<a id='sec_2'></a>\n",
    "## `2. Exploración del set de datos`\n",
    "\n",
    "El objetivo de esta fase es poder familiarizarnos con la información contenida en el set de datos.\n",
    "\n",
    "1. Leer el set de datos\n",
    "2. Entender tamaño, columnas y filas del set de datos\n",
    "3. Entender qué tipos de datos tenemos en cada columna\n",
    "4. Verificar si hay datos faltantes y valores duplicados"
   ]
  },
  {
   "cell_type": "markdown",
   "metadata": {},
   "source": [
    "**2.1. Leer el set de datos**"
   ]
  },
  {
   "cell_type": "code",
   "execution_count": 374,
   "metadata": {},
   "outputs": [],
   "source": [
    "import numpy as np\n",
    "import matplotlib.pyplot as plt\n",
    "import pandas as pd\n",
    "import plotly.express as px\n",
    "import plotly.graph_objects as go\n",
    "from plotly.subplots import make_subplots\n",
    "import seaborn as sns"
   ]
  },
  {
   "cell_type": "code",
   "execution_count": 375,
   "metadata": {},
   "outputs": [
    {
     "data": {
      "text/html": [
       "<div>\n",
       "<style scoped>\n",
       "    .dataframe tbody tr th:only-of-type {\n",
       "        vertical-align: middle;\n",
       "    }\n",
       "\n",
       "    .dataframe tbody tr th {\n",
       "        vertical-align: top;\n",
       "    }\n",
       "\n",
       "    .dataframe thead th {\n",
       "        text-align: right;\n",
       "    }\n",
       "</style>\n",
       "<table border=\"1\" class=\"dataframe\">\n",
       "  <thead>\n",
       "    <tr style=\"text-align: right;\">\n",
       "      <th></th>\n",
       "      <th>Edad</th>\n",
       "      <th>Nivel_Compra</th>\n",
       "    </tr>\n",
       "  </thead>\n",
       "  <tbody>\n",
       "    <tr>\n",
       "      <th>0</th>\n",
       "      <td>38.0</td>\n",
       "      <td>850.266397</td>\n",
       "    </tr>\n",
       "    <tr>\n",
       "      <th>1</th>\n",
       "      <td>35.0</td>\n",
       "      <td>605.393766</td>\n",
       "    </tr>\n",
       "    <tr>\n",
       "      <th>2</th>\n",
       "      <td>32.0</td>\n",
       "      <td>1289.277340</td>\n",
       "    </tr>\n",
       "    <tr>\n",
       "      <th>3</th>\n",
       "      <td>39.0</td>\n",
       "      <td>1289.682865</td>\n",
       "    </tr>\n",
       "    <tr>\n",
       "      <th>4</th>\n",
       "      <td>38.0</td>\n",
       "      <td>871.743748</td>\n",
       "    </tr>\n",
       "    <tr>\n",
       "      <th>...</th>\n",
       "      <td>...</td>\n",
       "      <td>...</td>\n",
       "    </tr>\n",
       "    <tr>\n",
       "      <th>368</th>\n",
       "      <td>70.0</td>\n",
       "      <td>1531.964604</td>\n",
       "    </tr>\n",
       "    <tr>\n",
       "      <th>369</th>\n",
       "      <td>60.0</td>\n",
       "      <td>1315.968541</td>\n",
       "    </tr>\n",
       "    <tr>\n",
       "      <th>370</th>\n",
       "      <td>67.0</td>\n",
       "      <td>1386.208622</td>\n",
       "    </tr>\n",
       "    <tr>\n",
       "      <th>371</th>\n",
       "      <td>55.0</td>\n",
       "      <td>1524.478771</td>\n",
       "    </tr>\n",
       "    <tr>\n",
       "      <th>372</th>\n",
       "      <td>72.0</td>\n",
       "      <td>1596.771105</td>\n",
       "    </tr>\n",
       "  </tbody>\n",
       "</table>\n",
       "<p>373 rows × 2 columns</p>\n",
       "</div>"
      ],
      "text/plain": [
       "     Edad  Nivel_Compra\n",
       "0    38.0    850.266397\n",
       "1    35.0    605.393766\n",
       "2    32.0   1289.277340\n",
       "3    39.0   1289.682865\n",
       "4    38.0    871.743748\n",
       "..    ...           ...\n",
       "368  70.0   1531.964604\n",
       "369  60.0   1315.968541\n",
       "370  67.0   1386.208622\n",
       "371  55.0   1524.478771\n",
       "372  72.0   1596.771105\n",
       "\n",
       "[373 rows x 2 columns]"
      ]
     },
     "execution_count": 375,
     "metadata": {},
     "output_type": "execute_result"
    }
   ],
   "source": [
    "data = np.load('Data/dataset.npy')\n",
    "df = pd.DataFrame(data, columns=['Edad','Nivel_Compra'])\n",
    "df"
   ]
  },
  {
   "cell_type": "markdown",
   "metadata": {},
   "source": [
    "**2.2. Entender tamaño, columnas y filas del set de datos**"
   ]
  },
  {
   "cell_type": "code",
   "execution_count": 376,
   "metadata": {},
   "outputs": [
    {
     "name": "stdout",
     "output_type": "stream",
     "text": [
      "<class 'pandas.core.frame.DataFrame'>\n",
      "RangeIndex: 373 entries, 0 to 372\n",
      "Data columns (total 2 columns):\n",
      " #   Column        Non-Null Count  Dtype  \n",
      "---  ------        --------------  -----  \n",
      " 0   Edad          373 non-null    float64\n",
      " 1   Nivel_Compra  369 non-null    float64\n",
      "dtypes: float64(2)\n",
      "memory usage: 6.0 KB\n"
     ]
    }
   ],
   "source": [
    "df.info()"
   ]
  },
  {
   "cell_type": "markdown",
   "metadata": {},
   "source": [
    ">**Observación**\n",
    ">- Se puede observar que se tiene `373 filas` y `2 columnas`"
   ]
  },
  {
   "cell_type": "markdown",
   "metadata": {},
   "source": [
    "**2.3. Entender qué tipos de datos tenemos en cada columna**"
   ]
  },
  {
   "cell_type": "code",
   "execution_count": 377,
   "metadata": {},
   "outputs": [
    {
     "data": {
      "text/plain": [
       "Edad            float64\n",
       "Nivel_Compra    float64\n",
       "dtype: object"
      ]
     },
     "execution_count": 377,
     "metadata": {},
     "output_type": "execute_result"
    }
   ],
   "source": [
    "df.dtypes"
   ]
  },
  {
   "cell_type": "markdown",
   "metadata": {},
   "source": [
    ">**Observación**\n",
    ">- Se puede observar que se tiene datos de tipos `float`"
   ]
  },
  {
   "cell_type": "markdown",
   "metadata": {},
   "source": [
    "**2.4. Verificar si hay datos faltantes y valores duplicados**"
   ]
  },
  {
   "cell_type": "code",
   "execution_count": 378,
   "metadata": {},
   "outputs": [
    {
     "data": {
      "text/plain": [
       "Edad            0\n",
       "Nivel_Compra    4\n",
       "dtype: int64"
      ]
     },
     "execution_count": 378,
     "metadata": {},
     "output_type": "execute_result"
    }
   ],
   "source": [
    "df.isnull().sum()"
   ]
  },
  {
   "cell_type": "markdown",
   "metadata": {},
   "source": [
    ">**Observación**\n",
    ">- Se puede observar que se tiene valores de tipo `nan`"
   ]
  },
  {
   "cell_type": "code",
   "execution_count": 379,
   "metadata": {},
   "outputs": [
    {
     "data": {
      "text/plain": [
       "1"
      ]
     },
     "execution_count": 379,
     "metadata": {},
     "output_type": "execute_result"
    }
   ],
   "source": [
    "\n",
    "df.duplicated().sum()"
   ]
  },
  {
   "cell_type": "markdown",
   "metadata": {},
   "source": [
    ">**Observación**\n",
    "> - Al observar se pudo evidenciar que si hay `valores duplicados`"
   ]
  },
  {
   "cell_type": "code",
   "execution_count": 380,
   "metadata": {},
   "outputs": [],
   "source": [
    "df = df.drop_duplicates()"
   ]
  },
  {
   "cell_type": "code",
   "execution_count": 381,
   "metadata": {},
   "outputs": [
    {
     "data": {
      "text/plain": [
       "0"
      ]
     },
     "execution_count": 381,
     "metadata": {},
     "output_type": "execute_result"
    }
   ],
   "source": [
    "df.duplicated().sum()"
   ]
  },
  {
   "cell_type": "markdown",
   "metadata": {},
   "source": [
    ">**Observación**\n",
    "> - Al observar se pudo evidenciar que ya no hay `valores duplicados`"
   ]
  },
  {
   "cell_type": "markdown",
   "metadata": {},
   "source": [
    "<a id='sec_3'></a>\n",
    "## `3. Análisis de los datos`\n",
    "\n",
    "En este caso debemos de analis nuestros datos para poder analizar en caso halla valores atipicos\n",
    "\n",
    "Etapas de Análisis de los datos:\n",
    "\n",
    "1. Visualizar distribución de los datos"
   ]
  },
  {
   "cell_type": "markdown",
   "metadata": {},
   "source": [
    "**3.1. Visualizar distribución de los datos**"
   ]
  },
  {
   "cell_type": "code",
   "execution_count": 382,
   "metadata": {},
   "outputs": [
    {
     "data": {
      "image/png": "[encoded data removed]",
      "text/plain": [
       "<Figure size 640x480 with 1 Axes>"
      ]
     },
     "metadata": {},
     "output_type": "display_data"
    }
   ],
   "source": [
    "plt.scatter(x = df['Edad'], y = df['Nivel_Compra'], color = '#83C5BE')\n",
    "plt.ylabel('Nivel de Compra')\n",
    "plt.xlabel('Edad')\n",
    "plt.title('Nivel de compra por Edad')\n",
    "plt.grid(True, alpha = 0.5);"
   ]
  },
  {
   "cell_type": "markdown",
   "metadata": {},
   "source": [
    ">**Observación**\n",
    "> - Al observar se pudo evidenciar que ya se tienen `valores outliers` tanto para la variable de `edad` y `nivel de compra`\n",
    "> - Algunas `edades` son negativas o incluso llegan a ser de 120 años\n",
    "> - Algunos `niveles de compra` son negativas o incluso sobrepsan el nivel máximo de a mayoría de los datos"
   ]
  },
  {
   "cell_type": "code",
   "execution_count": 383,
   "metadata": {},
   "outputs": [
    {
     "data": {
      "application/vnd.plotly.v1+json": {
       "config": {
        "plotlyServerURL": "https://plot.ly"
       },
       "data": [
        {
         "name": "Edad",
         "type": "box",
         "xaxis": "x",
         "y": [
          38,
          35,
          32,
          39,
          38,
          30,
          33,
          30,
          29,
          43,
          34,
          38,
          37,
          35,
          30,
          30,
          37,
          40,
          27,
          31,
          34,
          40,
          38,
          39,
          36,
          31,
          34,
          41,
          36,
          30,
          42,
          37,
          38,
          44,
          33,
          32,
          24,
          36,
          38,
          35,
          35,
          39,
          37,
          35,
          35,
          40,
          35,
          33,
          33,
          35,
          36,
          37,
          36,
          34,
          28,
          38,
          31,
          34,
          41,
          36,
          31,
          38,
          34,
          33,
          41,
          38,
          50,
          30,
          35,
          37,
          41,
          34,
          42,
          36,
          32,
          34,
          35,
          35,
          33,
          34,
          40,
          39,
          44,
          31,
          30,
          45,
          37,
          37,
          31,
          37,
          36,
          35,
          41,
          32,
          36,
          27,
          37,
          30,
          43,
          29,
          43,
          31,
          28,
          36,
          36,
          31,
          29,
          24,
          34,
          37,
          26,
          36,
          42,
          27,
          38,
          38,
          32,
          37,
          30,
          37,
          42,
          34,
          43,
          41,
          50,
          50,
          -7,
          42,
          51,
          48,
          39,
          42,
          40,
          37,
          52,
          53,
          37,
          49,
          46,
          47,
          50,
          50,
          46,
          44,
          49,
          54,
          40,
          43,
          45,
          42,
          44,
          50,
          48,
          45,
          46,
          43,
          50,
          44,
          41,
          44,
          46,
          53,
          46,
          44,
          56,
          46,
          52,
          48,
          49,
          41,
          48,
          44,
          41,
          48,
          45,
          46,
          50,
          36,
          47,
          39,
          38,
          46,
          43,
          35,
          45,
          46,
          51,
          50,
          45,
          39,
          45,
          48,
          49,
          50,
          46,
          48,
          43,
          44,
          48,
          50,
          -1,
          44,
          45,
          49,
          46,
          57,
          47,
          43,
          45,
          44,
          46,
          48,
          53,
          52,
          49,
          42,
          48,
          43,
          46,
          48,
          46,
          56,
          46,
          45,
          45,
          50,
          39,
          44,
          41,
          45,
          64,
          61,
          65,
          68,
          67,
          66,
          70,
          63,
          70,
          66,
          61,
          67,
          68,
          67,
          61,
          66,
          75,
          75,
          62,
          65,
          64,
          60,
          59,
          65,
          72,
          70,
          72,
          75,
          63,
          65,
          59,
          64,
          68,
          71,
          61,
          63,
          65,
          65,
          59,
          68,
          64,
          64,
          120,
          65,
          63,
          65,
          71,
          66,
          68,
          66,
          59,
          58,
          68,
          62,
          65,
          63,
          60,
          72,
          78,
          72,
          60,
          64,
          67,
          61,
          65,
          67,
          74,
          59,
          66,
          61,
          56,
          69,
          57,
          64,
          69,
          67,
          65,
          71,
          64,
          63,
          72,
          67,
          63,
          61,
          64,
          71,
          64,
          67,
          73,
          73,
          60,
          72,
          55,
          69,
          60,
          63,
          64,
          63,
          66,
          64,
          74,
          65,
          61,
          67,
          63,
          66,
          64,
          66,
          68,
          70,
          72,
          69,
          66,
          64,
          61,
          73,
          64,
          64,
          67,
          70,
          73,
          69,
          61,
          69,
          65,
          63,
          71,
          65,
          66,
          70,
          68,
          69,
          67,
          64,
          64,
          66,
          66,
          70,
          60,
          67,
          55,
          72
         ],
         "yaxis": "y"
        },
        {
         "name": "Nivel de Compra",
         "type": "box",
         "xaxis": "x2",
         "y": [
          850.2663967086897,
          605.3937661886903,
          1289.2773395092604,
          1289.6828648088444,
          871.7437484612415,
          975.8565340739001,
          943.4657537088287,
          1199.4453287381266,
          null,
          1079.0469553113267,
          562.9639564703034,
          1075.0364138797722,
          null,
          1189.9938503179199,
          1056.6785746601524,
          852.2562114067796,
          830.3157881537571,
          749.6166853736256,
          1256.040003861917,
          1147.514412081136,
          853.4208056239754,
          725.2944729103517,
          1047.3061618978286,
          962.3221113164806,
          874.6030307860025,
          null,
          1077.0567580987297,
          955.3260920532599,
          1069.6865926212295,
          959.3415100997006,
          1007.8665906239386,
          864.6715751169272,
          1099.707702380861,
          987.4582657226019,
          906.3908251170673,
          993.414601661206,
          919.1564247394086,
          926.4969503166516,
          1052.4675909786156,
          1113.658338055975,
          672.9507115382585,
          926.5506511604699,
          974.3071001356155,
          1036.9749273809061,
          917.9495014037007,
          865.4176924387231,
          648.6814582747152,
          705.8856856469502,
          976.4472443917622,
          1275.5685373940519,
          886.5998684836138,
          590.8846392084819,
          1178.0497665507003,
          990.4334027991944,
          1166.2361144203983,
          849.3697810774659,
          1112.0182536830525,
          1021.5413079238659,
          740.2633652697352,
          897.8380998032388,
          981.7784908354354,
          805.5353238190404,
          1170.2462976612633,
          889.5389473337667,
          1116.0036353020532,
          917.69315988545,
          1074.751091639565,
          1060.1193983222365,
          624.9813414640644,
          917.1223819497759,
          1089.53005764495,
          901.0519173507613,
          1227.940722434208,
          1190.351914931828,
          824.6971867313478,
          993.2905681722091,
          1060.8391566429332,
          845.0829781251683,
          1257.543258924556,
          1104.4307407397682,
          979.2842351690944,
          826.0656979008916,
          813.1671677002989,
          832.8872840643917,
          1102.6129283289297,
          811.5389590897914,
          1121.4568821377006,
          1374.4355409395134,
          726.8795479495902,
          850.5420475840033,
          1160.311969885655,
          1013.2474057669729,
          810.1297274465232,
          951.8248490692844,
          955.7280330670567,
          1092.946173646014,
          808.5319569380437,
          914.4807659389985,
          937.8053377797356,
          1024.6474167379704,
          922.7224300397587,
          702.0716945423969,
          730.1684640979084,
          1176.6713783932883,
          -5000,
          980.5999695905351,
          966.8564033430839,
          1028.6276119898755,
          1202.1713476663572,
          969.3321502545051,
          1102.9032278485026,
          1053.3501991000126,
          1009.037039176642,
          768.1786006398058,
          884.2099217706723,
          1126.9228446896495,
          907.6386696170409,
          901.2185362303261,
          913.5469623152322,
          750.3766273103065,
          817.1615788692596,
          997.1590910729884,
          1514.9296292507297,
          1765.7817730773454,
          1972.2576408355062,
          1682.669675855545,
          2001.061759028339,
          1691.701143415812,
          1781.8005179063896,
          1609.2890073762674,
          1906.4581631708063,
          1896.6861747950888,
          1839.2987461532368,
          1973.393017167376,
          1731.8228792951866,
          2130.594165231043,
          1845.1963025041587,
          1676.2741942919154,
          1766.0046445065004,
          1807.2872883628766,
          1609.330619151977,
          1631.952478657555,
          2100.7385856904184,
          1907.3551392614336,
          1993.8744474842636,
          2234.7309990133544,
          1947.4490460910633,
          1692.2412763139246,
          1978.1749681495698,
          1708.1505485908579,
          2035.9949771555264,
          1946.7192417660106,
          2036.4786163778929,
          1688.8937124584684,
          1529.3357591761544,
          1893.1184284645938,
          1968.492365847954,
          1847.340382502382,
          1770.0728720565469,
          1773.7162101553638,
          1762.7438796371632,
          1936.3083203691197,
          1590.7771499028195,
          1785.041072989509,
          1939.9772230287565,
          1830.8772660967493,
          1745.1264941669845,
          1758.0682913862738,
          1904.3461060257848,
          1962.428369311147,
          1565.1593205970682,
          2208.216334907351,
          1894.7492931235627,
          1823.264684864273,
          1636.5494891377666,
          1696.2190327136534,
          1959.6120800680997,
          1898.230684068,
          1499.4600184819299,
          1661.4115335024278,
          1788.4374618372246,
          1647.9178785616823,
          2140.129113586352,
          2018.1954291390327,
          1740.2205190989,
          1545.8659332857824,
          1839.5528470838774,
          1750.6656988251657,
          1737.3515054206746,
          1612.9826498198152,
          1934.4170785188917,
          1809.4414429922797,
          2015.2038573604243,
          1958.5529807895725,
          1743.5686293794924,
          1840.2434058787317,
          1701.2853466001714,
          1837.0143181106907,
          1645.2923603180432,
          1932.4080282788543,
          1447.9842454208049,
          1876.3438197785008,
          1811.3938705951098,
          1944.8743414267474,
          1652.848474299121,
          1846.0990748002978,
          1926.763569509332,
          1803.1008275897675,
          1844.1716682292881,
          1813.2836531279659,
          1746.019819276115,
          1734.5461034652938,
          1565.9233845140682,
          1860.6527906700894,
          1824.4231894833567,
          2091.9439718957196,
          1682.0641259003016,
          2093.9787304220654,
          2016.318480995972,
          1432.011308033446,
          1814.4538938324013,
          2054.2985819791866,
          1820.7084354609249,
          1951.0893142233376,
          1993.9854333259723,
          1697.6579781839023,
          1901.2840168423359,
          1804.7995931888895,
          2044.3833903275136,
          1408.0661176647775,
          1520.2335976605714,
          1277.295527920182,
          1300.449610836979,
          1363.034428854405,
          1230.2077675487787,
          1413.2489067177717,
          1528.5403190773393,
          1190.192946086718,
          1387.5047514402581,
          1225.1227031186577,
          1630.649620962518,
          1106.8811227173233,
          1295.8973275970925,
          1427.4176794098473,
          1404.0795949805922,
          1277.3891258500396,
          1460.2831614737288,
          1314.8978724100339,
          1499.6494987890424,
          1157.4641433485226,
          1294.578175225849,
          1586.320962015381,
          1646.8951891341435,
          1655.452877045968,
          1225.0620561957298,
          1889.513022977955,
          1419.174905769116,
          1802.8180606471067,
          1506.887732423811,
          1197.7270769034876,
          1492.9480178991917,
          1361.6044862745705,
          1473.7113393383804,
          1301.9915198273302,
          1442.0231634368276,
          1437.3899578321875,
          1251.687307027416,
          1481.7007411733214,
          1279.3724166623383,
          1282.2526383753907,
          1185.5977934934388,
          1483.7697319643528,
          1349.7449311102382,
          1089.4948456162128,
          1218.7866131330761,
          1440.9531591630018,
          1398.424934530915,
          1410.9989524896098,
          1279.6743760781671,
          1405.965580942436,
          1400.7531142886678,
          1541.3086002040334,
          1380.6897655149307,
          1676.1174494076974,
          1357.682326843341,
          1501.7075882698978,
          1683.764908749339,
          1172.2216595450623,
          1341.5319333556272,
          1635.9480277927228,
          1361.5391425060718,
          1329.9578141962907,
          1708.5561559387133,
          1658.5275089506442,
          1465.5567322600175,
          1322.5938621653245,
          1537.3835125957598,
          1311.2129192938069,
          1697.6807591541947,
          1212.6423935291996,
          22500,
          1129.397784485835,
          1368.7564614848372,
          1607.0690717128941,
          1381.8583976989003,
          1591.741563518312,
          1469.0086186623882,
          1464.3747976642817,
          1471.3699233910584,
          1406.6914543404105,
          1311.3419492342223,
          1527.6471064233938,
          1518.8353061057317,
          1592.178015306011,
          1440.4720750028985,
          1531.5523609005058,
          1320.323349711681,
          1521.9498005927426,
          1205.1992921120282,
          1147.7650376416764,
          1551.8713866249389,
          1357.9733208885045,
          1444.9825993450881,
          1407.6313566406034,
          1432.6663176735249,
          1024.2411238137406,
          1324.1859856878737,
          1407.1925726659479,
          1277.148475196142,
          1408.1369629540395,
          1284.395542721168,
          1396.2301019229474,
          1458.5118854012069,
          1316.364588264484,
          1071.637174550931,
          1472.1655921683753,
          1444.4573153408166,
          1353.3653735710618,
          1374.6833376142044,
          1204.7952661676636,
          1453.2533928853516,
          1439.863130261959,
          1507.3082856741178,
          1367.0525081561104,
          1092.773999767309,
          1158.8980840234844,
          1352.3669578677698,
          1706.9459048272008,
          1327.4198667885746,
          1511.4730260602723,
          1377.3148059915227,
          1462.764841979958,
          1436.3122540820782,
          1223.252112590116,
          1419.5788375680067,
          1641.8896380979272,
          1179.0071410482801,
          1361.9550366155438,
          1444.385356076261,
          1417.025555435494,
          1473.8361695350645,
          1222.571514273548,
          1763.43841865825,
          1538.4362859277444,
          1561.718551473229,
          1616.8992904159102,
          1321.0708569406606,
          1531.9646040829412,
          1315.9685405364235,
          1386.2086224319676,
          1524.4787714403394,
          1596.7711053975052
         ],
         "yaxis": "y2"
        }
       ],
       "layout": {
        "annotations": [
         {
          "font": {
           "size": 16
          },
          "showarrow": false,
          "text": "Distribución de Edad",
          "x": 0.225,
          "xanchor": "center",
          "xref": "paper",
          "y": 1,
          "yanchor": "bottom",
          "yref": "paper"
         },
         {
          "font": {
           "size": 16
          },
          "showarrow": false,
          "text": "Distribución de Nivel de Compra",
          "x": 0.775,
          "xanchor": "center",
          "xref": "paper",
          "y": 1,
          "yanchor": "bottom",
          "yref": "paper"
         }
        ],
        "showlegend": false,
        "template": {
         "data": {
          "bar": [
           {
            "error_x": {
             "color": "#2a3f5f"
            },
            "error_y": {
             "color": "#2a3f5f"
            },
            "marker": {
             "line": {
              "color": "#E5ECF6",
              "width": 0.5
             },
             "pattern": {
              "fillmode": "overlay",
              "size": 10,
              "solidity": 0.2
             }
            },
            "type": "bar"
           }
          ],
          "barpolar": [
           {
            "marker": {
             "line": {
              "color": "#E5ECF6",
              "width": 0.5
             },
             "pattern": {
              "fillmode": "overlay",
              "size": 10,
              "solidity": 0.2
             }
            },
            "type": "barpolar"
           }
          ],
          "carpet": [
           {
            "aaxis": {
             "endlinecolor": "#2a3f5f",
             "gridcolor": "white",
             "linecolor": "white",
             "minorgridcolor": "white",
             "startlinecolor": "#2a3f5f"
            },
            "baxis": {
             "endlinecolor": "#2a3f5f",
             "gridcolor": "white",
             "linecolor": "white",
             "minorgridcolor": "white",
             "startlinecolor": "#2a3f5f"
            },
            "type": "carpet"
           }
          ],
          "choropleth": [
           {
            "colorbar": {
             "outlinewidth": 0,
             "ticks": ""
            },
            "type": "choropleth"
           }
          ],
          "contour": [
           {
            "colorbar": {
             "outlinewidth": 0,
             "ticks": ""
            },
            "colorscale": [
             [
              0,
              "#0d0887"
             ],
             [
              0.1111111111111111,
              "#46039f"
             ],
             [
              0.2222222222222222,
              "#7201a8"
             ],
             [
              0.3333333333333333,
              "#9c179e"
             ],
             [
              0.4444444444444444,
              "#bd3786"
             ],
             [
              0.5555555555555556,
              "#d8576b"
             ],
             [
              0.6666666666666666,
              "#ed7953"
             ],
             [
              0.7777777777777778,
              "#fb9f3a"
             ],
             [
              0.8888888888888888,
              "#fdca26"
             ],
             [
              1,
              "#f0f921"
             ]
            ],
            "type": "contour"
           }
          ],
          "contourcarpet": [
           {
            "colorbar": {
             "outlinewidth": 0,
             "ticks": ""
            },
            "type": "contourcarpet"
           }
          ],
          "heatmap": [
           {
            "colorbar": {
             "outlinewidth": 0,
             "ticks": ""
            },
            "colorscale": [
             [
              0,
              "#0d0887"
             ],
             [
              0.1111111111111111,
              "#46039f"
             ],
             [
              0.2222222222222222,
              "#7201a8"
             ],
             [
              0.3333333333333333,
              "#9c179e"
             ],
             [
              0.4444444444444444,
              "#bd3786"
             ],
             [
              0.5555555555555556,
              "#d8576b"
             ],
             [
              0.6666666666666666,
              "#ed7953"
             ],
             [
              0.7777777777777778,
              "#fb9f3a"
             ],
             [
              0.8888888888888888,
              "#fdca26"
             ],
             [
              1,
              "#f0f921"
             ]
            ],
            "type": "heatmap"
           }
          ],
          "heatmapgl": [
           {
            "colorbar": {
             "outlinewidth": 0,
             "ticks": ""
            },
            "colorscale": [
             [
              0,
              "#0d0887"
             ],
             [
              0.1111111111111111,
              "#46039f"
             ],
             [
              0.2222222222222222,
              "#7201a8"
             ],
             [
              0.3333333333333333,
              "#9c179e"
             ],
             [
              0.4444444444444444,
              "#bd3786"
             ],
             [
              0.5555555555555556,
              "#d8576b"
             ],
             [
              0.6666666666666666,
              "#ed7953"
             ],
             [
              0.7777777777777778,
              "#fb9f3a"
             ],
             [
              0.8888888888888888,
              "#fdca26"
             ],
             [
              1,
              "#f0f921"
             ]
            ],
            "type": "heatmapgl"
           }
          ],
          "histogram": [
           {
            "marker": {
             "pattern": {
              "fillmode": "overlay",
              "size": 10,
              "solidity": 0.2
             }
            },
            "type": "histogram"
           }
          ],
          "histogram2d": [
           {
            "colorbar": {
             "outlinewidth": 0,
             "ticks": ""
            },
            "colorscale": [
             [
              0,
              "#0d0887"
             ],
             [
              0.1111111111111111,
              "#46039f"
             ],
             [
              0.2222222222222222,
              "#7201a8"
             ],
             [
              0.3333333333333333,
              "#9c179e"
             ],
             [
              0.4444444444444444,
              "#bd3786"
             ],
             [
              0.5555555555555556,
              "#d8576b"
             ],
             [
              0.6666666666666666,
              "#ed7953"
             ],
             [
              0.7777777777777778,
              "#fb9f3a"
             ],
             [
              0.8888888888888888,
              "#fdca26"
             ],
             [
              1,
              "#f0f921"
             ]
            ],
            "type": "histogram2d"
           }
          ],
          "histogram2dcontour": [
           {
            "colorbar": {
             "outlinewidth": 0,
             "ticks": ""
            },
            "colorscale": [
             [
              0,
              "#0d0887"
             ],
             [
              0.1111111111111111,
              "#46039f"
             ],
             [
              0.2222222222222222,
              "#7201a8"
             ],
             [
              0.3333333333333333,
              "#9c179e"
             ],
             [
              0.4444444444444444,
              "#bd3786"
             ],
             [
              0.5555555555555556,
              "#d8576b"
             ],
             [
              0.6666666666666666,
              "#ed7953"
             ],
             [
              0.7777777777777778,
              "#fb9f3a"
             ],
             [
              0.8888888888888888,
              "#fdca26"
             ],
             [
              1,
              "#f0f921"
             ]
            ],
            "type": "histogram2dcontour"
           }
          ],
          "mesh3d": [
           {
            "colorbar": {
             "outlinewidth": 0,
             "ticks": ""
            },
            "type": "mesh3d"
           }
          ],
          "parcoords": [
           {
            "line": {
             "colorbar": {
              "outlinewidth": 0,
              "ticks": ""
             }
            },
            "type": "parcoords"
           }
          ],
          "pie": [
           {
            "automargin": true,
            "type": "pie"
           }
          ],
          "scatter": [
           {
            "fillpattern": {
             "fillmode": "overlay",
             "size": 10,
             "solidity": 0.2
            },
            "type": "scatter"
           }
          ],
          "scatter3d": [
           {
            "line": {
             "colorbar": {
              "outlinewidth": 0,
              "ticks": ""
             }
            },
            "marker": {
             "colorbar": {
              "outlinewidth": 0,
              "ticks": ""
             }
            },
            "type": "scatter3d"
           }
          ],
          "scattercarpet": [
           {
            "marker": {
             "colorbar": {
              "outlinewidth": 0,
              "ticks": ""
             }
            },
            "type": "scattercarpet"
           }
          ],
          "scattergeo": [
           {
            "marker": {
             "colorbar": {
              "outlinewidth": 0,
              "ticks": ""
             }
            },
            "type": "scattergeo"
           }
          ],
          "scattergl": [
           {
            "marker": {
             "colorbar": {
              "outlinewidth": 0,
              "ticks": ""
             }
            },
            "type": "scattergl"
           }
          ],
          "scattermapbox": [
           {
            "marker": {
             "colorbar": {
              "outlinewidth": 0,
              "ticks": ""
             }
            },
            "type": "scattermapbox"
           }
          ],
          "scatterpolar": [
           {
            "marker": {
             "colorbar": {
              "outlinewidth": 0,
              "ticks": ""
             }
            },
            "type": "scatterpolar"
           }
          ],
          "scatterpolargl": [
           {
            "marker": {
             "colorbar": {
              "outlinewidth": 0,
              "ticks": ""
             }
            },
            "type": "scatterpolargl"
           }
          ],
          "scatterternary": [
           {
            "marker": {
             "colorbar": {
              "outlinewidth": 0,
              "ticks": ""
             }
            },
            "type": "scatterternary"
           }
          ],
          "surface": [
           {
            "colorbar": {
             "outlinewidth": 0,
             "ticks": ""
            },
            "colorscale": [
             [
              0,
              "#0d0887"
             ],
             [
              0.1111111111111111,
              "#46039f"
             ],
             [
              0.2222222222222222,
              "#7201a8"
             ],
             [
              0.3333333333333333,
              "#9c179e"
             ],
             [
              0.4444444444444444,
              "#bd3786"
             ],
             [
              0.5555555555555556,
              "#d8576b"
             ],
             [
              0.6666666666666666,
              "#ed7953"
             ],
             [
              0.7777777777777778,
              "#fb9f3a"
             ],
             [
              0.8888888888888888,
              "#fdca26"
             ],
             [
              1,
              "#f0f921"
             ]
            ],
            "type": "surface"
           }
          ],
          "table": [
           {
            "cells": {
             "fill": {
              "color": "#EBF0F8"
             },
             "line": {
              "color": "white"
             }
            },
            "header": {
             "fill": {
              "color": "#C8D4E3"
             },
             "line": {
              "color": "white"
             }
            },
            "type": "table"
           }
          ]
         },
         "layout": {
          "annotationdefaults": {
           "arrowcolor": "#2a3f5f",
           "arrowhead": 0,
           "arrowwidth": 1
          },
          "autotypenumbers": "strict",
          "coloraxis": {
           "colorbar": {
            "outlinewidth": 0,
            "ticks": ""
           }
          },
          "colorscale": {
           "diverging": [
            [
             0,
             "#8e0152"
            ],
            [
             0.1,
             "#c51b7d"
            ],
            [
             0.2,
             "#de77ae"
            ],
            [
             0.3,
             "#f1b6da"
            ],
            [
             0.4,
             "#fde0ef"
            ],
            [
             0.5,
             "#f7f7f7"
            ],
            [
             0.6,
             "#e6f5d0"
            ],
            [
             0.7,
             "#b8e186"
            ],
            [
             0.8,
             "#7fbc41"
            ],
            [
             0.9,
             "#4d9221"
            ],
            [
             1,
             "#276419"
            ]
           ],
           "sequential": [
            [
             0,
             "#0d0887"
            ],
            [
             0.1111111111111111,
             "#46039f"
            ],
            [
             0.2222222222222222,
             "#7201a8"
            ],
            [
             0.3333333333333333,
             "#9c179e"
            ],
            [
             0.4444444444444444,
             "#bd3786"
            ],
            [
             0.5555555555555556,
             "#d8576b"
            ],
            [
             0.6666666666666666,
             "#ed7953"
            ],
            [
             0.7777777777777778,
             "#fb9f3a"
            ],
            [
             0.8888888888888888,
             "#fdca26"
            ],
            [
             1,
             "#f0f921"
            ]
           ],
           "sequentialminus": [
            [
             0,
             "#0d0887"
            ],
            [
             0.1111111111111111,
             "#46039f"
            ],
            [
             0.2222222222222222,
             "#7201a8"
            ],
            [
             0.3333333333333333,
             "#9c179e"
            ],
            [
             0.4444444444444444,
             "#bd3786"
            ],
            [
             0.5555555555555556,
             "#d8576b"
            ],
            [
             0.6666666666666666,
             "#ed7953"
            ],
            [
             0.7777777777777778,
             "#fb9f3a"
            ],
            [
             0.8888888888888888,
             "#fdca26"
            ],
            [
             1,
             "#f0f921"
            ]
           ]
          },
          "colorway": [
           "#636efa",
           "#EF553B",
           "#00cc96",
           "#ab63fa",
           "#FFA15A",
           "#19d3f3",
           "#FF6692",
           "#B6E880",
           "#FF97FF",
           "#FECB52"
          ],
          "font": {
           "color": "#2a3f5f"
          },
          "geo": {
           "bgcolor": "white",
           "lakecolor": "white",
           "landcolor": "#E5ECF6",
           "showlakes": true,
           "showland": true,
           "subunitcolor": "white"
          },
          "hoverlabel": {
           "align": "left"
          },
          "hovermode": "closest",
          "mapbox": {
           "style": "light"
          },
          "paper_bgcolor": "white",
          "plot_bgcolor": "#E5ECF6",
          "polar": {
           "angularaxis": {
            "gridcolor": "white",
            "linecolor": "white",
            "ticks": ""
           },
           "bgcolor": "#E5ECF6",
           "radialaxis": {
            "gridcolor": "white",
            "linecolor": "white",
            "ticks": ""
           }
          },
          "scene": {
           "xaxis": {
            "backgroundcolor": "#E5ECF6",
            "gridcolor": "white",
            "gridwidth": 2,
            "linecolor": "white",
            "showbackground": true,
            "ticks": "",
            "zerolinecolor": "white"
           },
           "yaxis": {
            "backgroundcolor": "#E5ECF6",
            "gridcolor": "white",
            "gridwidth": 2,
            "linecolor": "white",
            "showbackground": true,
            "ticks": "",
            "zerolinecolor": "white"
           },
           "zaxis": {
            "backgroundcolor": "#E5ECF6",
            "gridcolor": "white",
            "gridwidth": 2,
            "linecolor": "white",
            "showbackground": true,
            "ticks": "",
            "zerolinecolor": "white"
           }
          },
          "shapedefaults": {
           "line": {
            "color": "#2a3f5f"
           }
          },
          "ternary": {
           "aaxis": {
            "gridcolor": "white",
            "linecolor": "white",
            "ticks": ""
           },
           "baxis": {
            "gridcolor": "white",
            "linecolor": "white",
            "ticks": ""
           },
           "bgcolor": "#E5ECF6",
           "caxis": {
            "gridcolor": "white",
            "linecolor": "white",
            "ticks": ""
           }
          },
          "title": {
           "x": 0.05
          },
          "xaxis": {
           "automargin": true,
           "gridcolor": "white",
           "linecolor": "white",
           "ticks": "",
           "title": {
            "standoff": 15
           },
           "zerolinecolor": "white",
           "zerolinewidth": 2
          },
          "yaxis": {
           "automargin": true,
           "gridcolor": "white",
           "linecolor": "white",
           "ticks": "",
           "title": {
            "standoff": 15
           },
           "zerolinecolor": "white",
           "zerolinewidth": 2
          }
         }
        },
        "title": {
         "text": "Boxplots de Edad y Nivel de Compra",
         "x": 0.5,
         "xanchor": "center",
         "yanchor": "top"
        },
        "xaxis": {
         "anchor": "y",
         "domain": [
          0,
          0.45
         ]
        },
        "xaxis2": {
         "anchor": "y2",
         "domain": [
          0.55,
          1
         ]
        },
        "yaxis": {
         "anchor": "x",
         "domain": [
          0,
          1
         ]
        },
        "yaxis2": {
         "anchor": "x2",
         "domain": [
          0,
          1
         ]
        }
       }
      }
     },
     "metadata": {},
     "output_type": "display_data"
    }
   ],
   "source": [
    "fig = make_subplots(rows=1, cols=2, subplot_titles=(\"Distribución de Edad\", \"Distribución de Nivel de Compra\"))\n",
    "fig.add_trace(go.Box(y=df['Edad'], name='Edad'), row=1, col=1)\n",
    "fig.add_trace(go.Box(y=df['Nivel_Compra'], name='Nivel de Compra'), row=1, col=2)\n",
    "fig.update_layout(\n",
    "    title={\n",
    "        'text': \"Boxplots de Edad y Nivel de Compra\",\n",
    "        'x': 0.5,  # Centro (0.5)\n",
    "        'xanchor': 'center',\n",
    "        'yanchor': 'top'\n",
    "    },\n",
    "    showlegend=False\n",
    ")\n",
    "fig.show()"
   ]
  },
  {
   "cell_type": "markdown",
   "metadata": {},
   "source": [
    ">**Observación**\n",
    "> - Se puede observar en el `gráfico de Edad` que se tiene valores negativos de `-1 y -7` y alas vez una edad de `120` las cuales deben ser eliminadas o tratadas, según sea conveniente\n",
    "> - Se puede observar en el `gráfico de Nivel` de compra que hay valor de `-5000` y valores mayores a `20000` las cuales deben ser eliminadas o tratadas, según sea conveniente"
   ]
  },
  {
   "cell_type": "markdown",
   "metadata": {},
   "source": [
    "<a id='sec_4'></a>\n",
    "## `4. Limpieza del set de datos`\n",
    "\n",
    "En esta etapa debemos de realizar a limpieza de missings y outliers, antes de usar nuestro modelo de K-Means.\n",
    "\n",
    "Etapas de la limpieza del set de datos:\n",
    "\n",
    "1. Tratamiento de Outlliers\n",
    "2. Tratamiento de Missings "
   ]
  },
  {
   "cell_type": "markdown",
   "metadata": {},
   "source": [
    "**4.1.Tratamiento de Outlliers mediante**"
   ]
  },
  {
   "cell_type": "markdown",
   "metadata": {},
   "source": [
    ">**Observación**\n",
    ">- En el caso de la `edad` que son `negativos` y `menos a 18` vamos a eliminaro ya que por naturaleza no existen edades negativos y no tengos información de los registros historicos\n",
    ">- En el caso de la `edad` que es `120` tambien vamos a eliminarlo ya que es e unico outiers con un edad de 120 años"
   ]
  },
  {
   "cell_type": "markdown",
   "metadata": {},
   "source": [
    "*Gráfica con outliers en Edad*"
   ]
  },
  {
   "cell_type": "code",
   "execution_count": 384,
   "metadata": {},
   "outputs": [
    {
     "data": {
      "image/png": "[encoded data removed]",
      "text/plain": [
       "<Figure size 640x480 with 1 Axes>"
      ]
     },
     "metadata": {},
     "output_type": "display_data"
    }
   ],
   "source": [
    "sns.boxplot(data = df[['Edad']], orient=\"h\", color = '#805D93')\n",
    "plt.title('Variable Original')\n",
    "plt.tight_layout();"
   ]
  },
  {
   "cell_type": "code",
   "execution_count": 385,
   "metadata": {},
   "outputs": [
    {
     "data": {
      "text/plain": [
       "[127, 201, 273]"
      ]
     },
     "execution_count": 385,
     "metadata": {},
     "output_type": "execute_result"
    }
   ],
   "source": [
    "df['Edad'].loc[(df['Edad']< 18) |(df['Edad']> 90) ].index.tolist()"
   ]
  },
  {
   "cell_type": "code",
   "execution_count": 386,
   "metadata": {},
   "outputs": [],
   "source": [
    "df = df.drop(index=[127, 201, 273])"
   ]
  },
  {
   "cell_type": "markdown",
   "metadata": {},
   "source": [
    "*Gráfica sin outliers*"
   ]
  },
  {
   "cell_type": "code",
   "execution_count": 387,
   "metadata": {},
   "outputs": [
    {
     "data": {
      "image/png": "[encoded data removed]",
      "text/plain": [
       "<Figure size 640x480 with 1 Axes>"
      ]
     },
     "metadata": {},
     "output_type": "display_data"
    }
   ],
   "source": [
    "sns.boxplot(data = df[['Edad']], orient=\"h\", color = '#805D93')\n",
    "plt.title('Variable Original')\n",
    "plt.tight_layout()\n",
    "plt.show();"
   ]
  },
  {
   "cell_type": "markdown",
   "metadata": {},
   "source": [
    "*Gráfica con outliers en Nivel de compra*"
   ]
  },
  {
   "cell_type": "markdown",
   "metadata": {},
   "source": [
    ">**Observación**\n",
    ">- En el caso del `nivel de compra` vamos a eliminar las compras menores a 0 ya que no existen valores negativos en y de la misma nivels de compras mayores a 5000"
   ]
  },
  {
   "cell_type": "code",
   "execution_count": 388,
   "metadata": {},
   "outputs": [
    {
     "data": {
      "image/png": "[encoded data removed]",
      "text/plain": [
       "<Figure size 640x480 with 1 Axes>"
      ]
     },
     "metadata": {},
     "output_type": "display_data"
    }
   ],
   "source": [
    "sns.boxplot(data = df[['Nivel_Compra']], orient=\"h\", color = '#E29578')\n",
    "plt.title('Variable Original')\n",
    "plt.tight_layout();"
   ]
  },
  {
   "cell_type": "code",
   "execution_count": 389,
   "metadata": {},
   "outputs": [
    {
     "data": {
      "text/plain": [
       "[105, 301]"
      ]
     },
     "execution_count": 389,
     "metadata": {},
     "output_type": "execute_result"
    }
   ],
   "source": [
    "df['Nivel_Compra'].loc[(df['Nivel_Compra']< 0) |(df['Nivel_Compra']> 5000) ].index.tolist()"
   ]
  },
  {
   "cell_type": "code",
   "execution_count": 390,
   "metadata": {},
   "outputs": [],
   "source": [
    "df = df.drop(index=[105, 301])"
   ]
  },
  {
   "cell_type": "code",
   "execution_count": 391,
   "metadata": {},
   "outputs": [
    {
     "data": {
      "image/png": "[encoded data removed]",
      "text/plain": [
       "<Figure size 640x480 with 1 Axes>"
      ]
     },
     "metadata": {},
     "output_type": "display_data"
    }
   ],
   "source": [
    "sns.boxplot(data = df[['Nivel_Compra']], orient=\"h\", color = '#E29578')\n",
    "plt.title('Variable Original')\n",
    "plt.tight_layout();"
   ]
  },
  {
   "cell_type": "markdown",
   "metadata": {},
   "source": [
    ">**Obervación**\n",
    ">- Se puede observar que ya nose  se cuenta con valores outiers en ambas columnas de `edad` y `nivel de compra`"
   ]
  },
  {
   "cell_type": "markdown",
   "metadata": {},
   "source": [
    "**4.1.Imputación de Missings**"
   ]
  },
  {
   "cell_type": "markdown",
   "metadata": {},
   "source": [
    "- Al momento de recolectar los datos es posible que no se haya recolectado la totalidad de la información (edad, nivel de compra) para cada cliente.\n",
    "En estos casos es probable que algunos elementos del set de datos no contengan cantidades numéricas y en su lugar tengan datos tipo `NaN` (`Not A Number`).\n",
    "- En este eventual caso debemos de imputar mediante `tenicas estadistica de tendencia central` como lo es la `mediana` que pertenece a la `imputación simple`"
   ]
  },
  {
   "cell_type": "markdown",
   "metadata": {},
   "source": [
    "[![tenicas-imputaci-n.png](https://i.postimg.cc/jjPp1TQv/tenicas-imputaci-n.png)](https://postimg.cc/v1821pK6)"
   ]
  },
  {
   "cell_type": "code",
   "execution_count": 392,
   "metadata": {},
   "outputs": [
    {
     "name": "stdout",
     "output_type": "stream",
     "text": [
      "<class 'pandas.core.frame.DataFrame'>\n",
      "Index: 367 entries, 0 to 372\n",
      "Data columns (total 2 columns):\n",
      " #   Column        Non-Null Count  Dtype  \n",
      "---  ------        --------------  -----  \n",
      " 0   Edad          367 non-null    float64\n",
      " 1   Nivel_Compra  364 non-null    float64\n",
      "dtypes: float64(2)\n",
      "memory usage: 8.6 KB\n"
     ]
    }
   ],
   "source": [
    "df.info()"
   ]
  },
  {
   "cell_type": "code",
   "execution_count": 393,
   "metadata": {},
   "outputs": [
    {
     "data": {
      "text/plain": [
       "['Edad', 'Nivel_Compra']"
      ]
     },
     "execution_count": 393,
     "metadata": {},
     "output_type": "execute_result"
    }
   ],
   "source": [
    "actual_features = df.columns.to_list()\n",
    "actual_features"
   ]
  },
  {
   "cell_type": "code",
   "execution_count": 394,
   "metadata": {},
   "outputs": [],
   "source": [
    "df[[x + '_imp' for x in actual_features]] = df[actual_features].fillna(df[actual_features].median())"
   ]
  },
  {
   "cell_type": "code",
   "execution_count": 395,
   "metadata": {},
   "outputs": [
    {
     "data": {
      "text/html": [
       "<div>\n",
       "<style scoped>\n",
       "    .dataframe tbody tr th:only-of-type {\n",
       "        vertical-align: middle;\n",
       "    }\n",
       "\n",
       "    .dataframe tbody tr th {\n",
       "        vertical-align: top;\n",
       "    }\n",
       "\n",
       "    .dataframe thead th {\n",
       "        text-align: right;\n",
       "    }\n",
       "</style>\n",
       "<table border=\"1\" class=\"dataframe\">\n",
       "  <thead>\n",
       "    <tr style=\"text-align: right;\">\n",
       "      <th></th>\n",
       "      <th>Edad</th>\n",
       "      <th>Nivel_Compra</th>\n",
       "      <th>Edad_imp</th>\n",
       "      <th>Nivel_Compra_imp</th>\n",
       "    </tr>\n",
       "  </thead>\n",
       "  <tbody>\n",
       "    <tr>\n",
       "      <th>0</th>\n",
       "      <td>38.0</td>\n",
       "      <td>850.266397</td>\n",
       "      <td>38.0</td>\n",
       "      <td>850.266397</td>\n",
       "    </tr>\n",
       "    <tr>\n",
       "      <th>1</th>\n",
       "      <td>35.0</td>\n",
       "      <td>605.393766</td>\n",
       "      <td>35.0</td>\n",
       "      <td>605.393766</td>\n",
       "    </tr>\n",
       "    <tr>\n",
       "      <th>2</th>\n",
       "      <td>32.0</td>\n",
       "      <td>1289.277340</td>\n",
       "      <td>32.0</td>\n",
       "      <td>1289.277340</td>\n",
       "    </tr>\n",
       "    <tr>\n",
       "      <th>3</th>\n",
       "      <td>39.0</td>\n",
       "      <td>1289.682865</td>\n",
       "      <td>39.0</td>\n",
       "      <td>1289.682865</td>\n",
       "    </tr>\n",
       "    <tr>\n",
       "      <th>4</th>\n",
       "      <td>38.0</td>\n",
       "      <td>871.743748</td>\n",
       "      <td>38.0</td>\n",
       "      <td>871.743748</td>\n",
       "    </tr>\n",
       "    <tr>\n",
       "      <th>...</th>\n",
       "      <td>...</td>\n",
       "      <td>...</td>\n",
       "      <td>...</td>\n",
       "      <td>...</td>\n",
       "    </tr>\n",
       "    <tr>\n",
       "      <th>368</th>\n",
       "      <td>70.0</td>\n",
       "      <td>1531.964604</td>\n",
       "      <td>70.0</td>\n",
       "      <td>1531.964604</td>\n",
       "    </tr>\n",
       "    <tr>\n",
       "      <th>369</th>\n",
       "      <td>60.0</td>\n",
       "      <td>1315.968541</td>\n",
       "      <td>60.0</td>\n",
       "      <td>1315.968541</td>\n",
       "    </tr>\n",
       "    <tr>\n",
       "      <th>370</th>\n",
       "      <td>67.0</td>\n",
       "      <td>1386.208622</td>\n",
       "      <td>67.0</td>\n",
       "      <td>1386.208622</td>\n",
       "    </tr>\n",
       "    <tr>\n",
       "      <th>371</th>\n",
       "      <td>55.0</td>\n",
       "      <td>1524.478771</td>\n",
       "      <td>55.0</td>\n",
       "      <td>1524.478771</td>\n",
       "    </tr>\n",
       "    <tr>\n",
       "      <th>372</th>\n",
       "      <td>72.0</td>\n",
       "      <td>1596.771105</td>\n",
       "      <td>72.0</td>\n",
       "      <td>1596.771105</td>\n",
       "    </tr>\n",
       "  </tbody>\n",
       "</table>\n",
       "<p>367 rows × 4 columns</p>\n",
       "</div>"
      ],
      "text/plain": [
       "     Edad  Nivel_Compra  Edad_imp  Nivel_Compra_imp\n",
       "0    38.0    850.266397      38.0        850.266397\n",
       "1    35.0    605.393766      35.0        605.393766\n",
       "2    32.0   1289.277340      32.0       1289.277340\n",
       "3    39.0   1289.682865      39.0       1289.682865\n",
       "4    38.0    871.743748      38.0        871.743748\n",
       "..    ...           ...       ...               ...\n",
       "368  70.0   1531.964604      70.0       1531.964604\n",
       "369  60.0   1315.968541      60.0       1315.968541\n",
       "370  67.0   1386.208622      67.0       1386.208622\n",
       "371  55.0   1524.478771      55.0       1524.478771\n",
       "372  72.0   1596.771105      72.0       1596.771105\n",
       "\n",
       "[367 rows x 4 columns]"
      ]
     },
     "execution_count": 395,
     "metadata": {},
     "output_type": "execute_result"
    }
   ],
   "source": [
    "df"
   ]
  },
  {
   "cell_type": "markdown",
   "metadata": {},
   "source": [
    ">**Observación**\n",
    ">- Se puede observar que ya no se tiene `valores Nan` y se ha completando mediante la `mediana` de cada columna y ala vez se a creado una columna con la extensión `_imp`"
   ]
  },
  {
   "cell_type": "markdown",
   "metadata": {},
   "source": [
    "<a id='sec_5'></a>\n",
    "## `5. Análisis exploratorio inicial`\n",
    "\n",
    "En esta etapa debemos de realizar una analisis exploratorio a detalle, antes de usar nuestro modelo de K-Means.\n",
    "\n",
    "Etapas del análisis exploratorio inicial:\n",
    "\n",
    "1. Exploración de variables imporantes\n",
    "2. Segmentación por rango de edades y gastos "
   ]
  },
  {
   "cell_type": "markdown",
   "metadata": {},
   "source": [
    "**5.1.Exploración de variables imporantes**"
   ]
  },
  {
   "cell_type": "code",
   "execution_count": 396,
   "metadata": {},
   "outputs": [
    {
     "data": {
      "image/png": "[encoded data removed]",
      "text/plain": [
       "<Figure size 640x480 with 1 Axes>"
      ]
     },
     "metadata": {},
     "output_type": "display_data"
    }
   ],
   "source": [
    "plt.scatter(df['Edad_imp'],df['Nivel_Compra_imp'], color = '#83C5BE')\n",
    "plt.xlabel('Edad')\n",
    "plt.ylabel('Nivel de compras ($)');"
   ]
  },
  {
   "cell_type": "markdown",
   "metadata": {},
   "source": [
    ">**Observación**\n",
    ">- Al eliminar los `outliers` ya podemos ver los detalles de nuestro set de datos. Hagamos un análisis exploratorio inicial:"
   ]
  },
  {
   "cell_type": "markdown",
   "metadata": {},
   "source": [
    "**5.2.Segmentación por rango de edades y gastos**"
   ]
  },
  {
   "cell_type": "markdown",
   "metadata": {},
   "source": [
    "Al observar la gráfica anterior podemos ver que nuestros clientes están distribuidos en tres agrupaciones.\n",
    "\n",
    "A partir de la gráfica podemos estimar de forma **aproximada** las características de cada segmento:\n",
    "\n",
    "- **Segmento 1:** edades entre 20-40 y nivel de gasto entre 500 y 1500\n",
    "- **Segmento 2:** edades entre 35-60 y nivel de gasto entre 1500-2250\n",
    "- **Segmento 3:** edades de 60 en adelante y nivel de gasto entre 1000 y 2000\n",
    "\n",
    "Pero por tratarse de una inspección visual, estas estimaciones son aproximadas. Necesitamos una herramienta adicional para poder determinar de forma más precisa las características de cada segmento."
   ]
  },
  {
   "cell_type": "markdown",
   "metadata": {},
   "source": [
    "<a id='sec_6'></a>\n",
    "## `6. Pre-Procesamiento`\n",
    "\n",
    "En esta etapa debemos de realizar un reescalamiento de nuestros datos y llevarlo a una misma escala, antes de usar nuestro modelo de K-Means.\n",
    "\n",
    "Etapas del Pre-Procesamiento:\n",
    "\n",
    "1. Reescalamiento de datos"
   ]
  },
  {
   "cell_type": "markdown",
   "metadata": {},
   "source": [
    "**6.1.Reescalamiento de datos**"
   ]
  },
  {
   "cell_type": "markdown",
   "metadata": {},
   "source": [
    ">**Observación**\n",
    ">- Es un proceso en el análisis de datos que consiste en transformar las variables para que tengan una escala común o un rango específico. El objetivo principal del reescalamiento de datos es colocar todas las variables en una misma escala numérica, lo cual puede facilitar la comparación y el análisis de las variables.\n",
    ">- Z-Score Scaling: También conocido como estandarización, transforma los datos para que tengan una media de 0 y una desviación estándar de 1. La fórmula para la estandarización es:\n",
    "`x_std = (x - mean(x)) / std(x)`"
   ]
  },
  {
   "cell_type": "code",
   "execution_count": 397,
   "metadata": {},
   "outputs": [],
   "source": [
    "actual_features = ['Edad_imp','Nivel_Compra_imp']"
   ]
  },
  {
   "cell_type": "code",
   "execution_count": 398,
   "metadata": {},
   "outputs": [],
   "source": [
    "df[[x + '_std' for x in actual_features]] = (df[actual_features] - df[actual_features].mean())/df[actual_features].std()"
   ]
  },
  {
   "cell_type": "code",
   "execution_count": 399,
   "metadata": {},
   "outputs": [
    {
     "data": {
      "text/html": [
       "<div>\n",
       "<style scoped>\n",
       "    .dataframe tbody tr th:only-of-type {\n",
       "        vertical-align: middle;\n",
       "    }\n",
       "\n",
       "    .dataframe tbody tr th {\n",
       "        vertical-align: top;\n",
       "    }\n",
       "\n",
       "    .dataframe thead th {\n",
       "        text-align: right;\n",
       "    }\n",
       "</style>\n",
       "<table border=\"1\" class=\"dataframe\">\n",
       "  <thead>\n",
       "    <tr style=\"text-align: right;\">\n",
       "      <th></th>\n",
       "      <th>Edad</th>\n",
       "      <th>Nivel_Compra</th>\n",
       "      <th>Edad_imp</th>\n",
       "      <th>Nivel_Compra_imp</th>\n",
       "      <th>Edad_imp_std</th>\n",
       "      <th>Nivel_Compra_imp_std</th>\n",
       "    </tr>\n",
       "  </thead>\n",
       "  <tbody>\n",
       "    <tr>\n",
       "      <th>0</th>\n",
       "      <td>38.0</td>\n",
       "      <td>850.266397</td>\n",
       "      <td>38.0</td>\n",
       "      <td>850.266397</td>\n",
       "      <td>-0.865796</td>\n",
       "      <td>-1.433427</td>\n",
       "    </tr>\n",
       "    <tr>\n",
       "      <th>1</th>\n",
       "      <td>35.0</td>\n",
       "      <td>605.393766</td>\n",
       "      <td>35.0</td>\n",
       "      <td>605.393766</td>\n",
       "      <td>-1.081902</td>\n",
       "      <td>-2.090282</td>\n",
       "    </tr>\n",
       "    <tr>\n",
       "      <th>2</th>\n",
       "      <td>32.0</td>\n",
       "      <td>1289.277340</td>\n",
       "      <td>32.0</td>\n",
       "      <td>1289.277340</td>\n",
       "      <td>-1.298008</td>\n",
       "      <td>-0.255809</td>\n",
       "    </tr>\n",
       "    <tr>\n",
       "      <th>3</th>\n",
       "      <td>39.0</td>\n",
       "      <td>1289.682865</td>\n",
       "      <td>39.0</td>\n",
       "      <td>1289.682865</td>\n",
       "      <td>-0.793761</td>\n",
       "      <td>-0.254721</td>\n",
       "    </tr>\n",
       "    <tr>\n",
       "      <th>4</th>\n",
       "      <td>38.0</td>\n",
       "      <td>871.743748</td>\n",
       "      <td>38.0</td>\n",
       "      <td>871.743748</td>\n",
       "      <td>-0.865796</td>\n",
       "      <td>-1.375816</td>\n",
       "    </tr>\n",
       "    <tr>\n",
       "      <th>...</th>\n",
       "      <td>...</td>\n",
       "      <td>...</td>\n",
       "      <td>...</td>\n",
       "      <td>...</td>\n",
       "      <td>...</td>\n",
       "      <td>...</td>\n",
       "    </tr>\n",
       "    <tr>\n",
       "      <th>368</th>\n",
       "      <td>70.0</td>\n",
       "      <td>1531.964604</td>\n",
       "      <td>70.0</td>\n",
       "      <td>1531.964604</td>\n",
       "      <td>1.439330</td>\n",
       "      <td>0.395184</td>\n",
       "    </tr>\n",
       "    <tr>\n",
       "      <th>369</th>\n",
       "      <td>60.0</td>\n",
       "      <td>1315.968541</td>\n",
       "      <td>60.0</td>\n",
       "      <td>1315.968541</td>\n",
       "      <td>0.718978</td>\n",
       "      <td>-0.184212</td>\n",
       "    </tr>\n",
       "    <tr>\n",
       "      <th>370</th>\n",
       "      <td>67.0</td>\n",
       "      <td>1386.208622</td>\n",
       "      <td>67.0</td>\n",
       "      <td>1386.208622</td>\n",
       "      <td>1.223224</td>\n",
       "      <td>0.004203</td>\n",
       "    </tr>\n",
       "    <tr>\n",
       "      <th>371</th>\n",
       "      <td>55.0</td>\n",
       "      <td>1524.478771</td>\n",
       "      <td>55.0</td>\n",
       "      <td>1524.478771</td>\n",
       "      <td>0.358802</td>\n",
       "      <td>0.375104</td>\n",
       "    </tr>\n",
       "    <tr>\n",
       "      <th>372</th>\n",
       "      <td>72.0</td>\n",
       "      <td>1596.771105</td>\n",
       "      <td>72.0</td>\n",
       "      <td>1596.771105</td>\n",
       "      <td>1.583400</td>\n",
       "      <td>0.569023</td>\n",
       "    </tr>\n",
       "  </tbody>\n",
       "</table>\n",
       "<p>367 rows × 6 columns</p>\n",
       "</div>"
      ],
      "text/plain": [
       "     Edad  Nivel_Compra  Edad_imp  Nivel_Compra_imp  Edad_imp_std  \\\n",
       "0    38.0    850.266397      38.0        850.266397     -0.865796   \n",
       "1    35.0    605.393766      35.0        605.393766     -1.081902   \n",
       "2    32.0   1289.277340      32.0       1289.277340     -1.298008   \n",
       "3    39.0   1289.682865      39.0       1289.682865     -0.793761   \n",
       "4    38.0    871.743748      38.0        871.743748     -0.865796   \n",
       "..    ...           ...       ...               ...           ...   \n",
       "368  70.0   1531.964604      70.0       1531.964604      1.439330   \n",
       "369  60.0   1315.968541      60.0       1315.968541      0.718978   \n",
       "370  67.0   1386.208622      67.0       1386.208622      1.223224   \n",
       "371  55.0   1524.478771      55.0       1524.478771      0.358802   \n",
       "372  72.0   1596.771105      72.0       1596.771105      1.583400   \n",
       "\n",
       "     Nivel_Compra_imp_std  \n",
       "0               -1.433427  \n",
       "1               -2.090282  \n",
       "2               -0.255809  \n",
       "3               -0.254721  \n",
       "4               -1.375816  \n",
       "..                    ...  \n",
       "368              0.395184  \n",
       "369             -0.184212  \n",
       "370              0.004203  \n",
       "371              0.375104  \n",
       "372              0.569023  \n",
       "\n",
       "[367 rows x 6 columns]"
      ]
     },
     "execution_count": 399,
     "metadata": {},
     "output_type": "execute_result"
    }
   ],
   "source": [
    "df"
   ]
  },
  {
   "cell_type": "markdown",
   "metadata": {},
   "source": [
    ">**Observación**\n",
    ">- Se puede observar que se han reescalado los datos con z-score y se crearon nuevas variables que terminan en _std\n",
    ">- Nuestros datos se encuentran listo para poder usar nuestro modelo k-means"
   ]
  },
  {
   "cell_type": "markdown",
   "metadata": {},
   "source": [
    "<a id='sec_7'></a>\n",
    "## `7. Clustering K-means`\n",
    "\n",
    "En esta etapa debemos de usar nuestro modelo de K-Means para la clusterización en clusters.\n",
    "\n",
    "Etapas de Clustering K-means:\n",
    "\n",
    "1. Elección del mejor número de clusters\n",
    "2. Algoritmo K-means\n",
    "3. Gráfica de Clusters"
   ]
  },
  {
   "cell_type": "markdown",
   "metadata": {},
   "source": [
    "**7.1.Elección del mejor número de clusters**"
   ]
  },
  {
   "cell_type": "code",
   "execution_count": 400,
   "metadata": {},
   "outputs": [],
   "source": [
    "from sklearn.cluster import KMeans\n",
    "from sklearn.metrics import silhouette_score, davies_bouldin_score"
   ]
  },
  {
   "cell_type": "code",
   "execution_count": 401,
   "metadata": {},
   "outputs": [],
   "source": [
    "actual_features = ['Edad_imp_std','Nivel_Compra_imp_std']"
   ]
  },
  {
   "cell_type": "code",
   "execution_count": 402,
   "metadata": {},
   "outputs": [],
   "source": [
    "inercias = []\n",
    "k_clusters = range(2,8)\n",
    "for n in k_clusters:\n",
    "    kmeans = (KMeans(n_clusters = n ,\n",
    "                        init = 'k-means++',\n",
    "                        n_init = 10,\n",
    "                        max_iter = 300,\n",
    "                        tol = 0.0001,\n",
    "                        random_state= 123 ,\n",
    "                        algorithm='elkan') ).fit(df[actual_features])\n",
    "    inercias.append(kmeans.inertia_)"
   ]
  },
  {
   "cell_type": "code",
   "execution_count": 403,
   "metadata": {},
   "outputs": [
    {
     "data": {
      "image/png": "[encoded data removed]",
      "text/plain": [
       "<Figure size 600x500 with 1 Axes>"
      ]
     },
     "metadata": {},
     "output_type": "display_data"
    }
   ],
   "source": [
    "plt.figure(figsize=(6,5), dpi=100)\n",
    "plt.plot(range(2,8), inercias , 'o')\n",
    "plt.plot(range(2,8), inercias , '-' , alpha = 0.5)\n",
    "plt.xlabel('Numero de Clusters',fontsize = 12) \n",
    "plt.ylabel('Inercia',fontsize = 12)\n",
    "plt.show()"
   ]
  },
  {
   "cell_type": "markdown",
   "metadata": {},
   "source": [
    ">**Observación**\n",
    ">- Como podemos observar el número de cluster en 3 seria lo ideas en la gráfica anterior ya que existe un codo el cual deja de crecer de manera significativa apartir de 3 clusters"
   ]
  },
  {
   "cell_type": "markdown",
   "metadata": {},
   "source": [
    "**7.2.Algoritmo K-means**"
   ]
  },
  {
   "cell_type": "code",
   "execution_count": 404,
   "metadata": {},
   "outputs": [
    {
     "data": {
      "text/plain": [
       "array([1, 1, 1, 1, 1, 1, 1, 1, 1, 1, 1, 1, 1, 1, 1, 1, 1, 1, 1, 1, 1, 1,\n",
       "       1, 1, 1, 1, 1, 1, 1, 1, 1, 1, 1, 1, 1, 1, 1, 1, 1, 1, 1, 1, 1, 1,\n",
       "       1, 1, 1, 1, 1, 1, 1, 1, 1, 1, 1, 1, 1, 1, 1, 1, 1, 1, 1, 1, 1, 1,\n",
       "       1, 1, 1, 1, 1, 1, 1, 1, 1, 1, 1, 1, 1, 1, 1, 1, 1, 1, 1, 1, 1, 1,\n",
       "       1, 1, 1, 1, 1, 1, 1, 1, 1, 1, 1, 1, 1, 1, 1, 1, 1, 1, 1, 1, 1, 1,\n",
       "       1, 1, 1, 1, 1, 1, 1, 1, 1, 1, 1, 2, 2, 2, 2, 2, 2, 2, 2, 2, 2, 2,\n",
       "       2, 2, 2, 2, 2, 2, 2, 2, 2, 2, 2, 2, 2, 2, 2, 2, 2, 2, 2, 2, 2, 2,\n",
       "       2, 2, 2, 2, 2, 2, 2, 2, 2, 2, 2, 2, 2, 2, 2, 2, 2, 2, 2, 2, 2, 2,\n",
       "       2, 2, 2, 2, 2, 2, 2, 2, 2, 2, 2, 2, 2, 2, 2, 2, 2, 2, 2, 2, 2, 2,\n",
       "       2, 2, 2, 2, 2, 2, 2, 2, 2, 2, 2, 2, 2, 2, 2, 2, 2, 2, 2, 2, 2, 2,\n",
       "       2, 2, 2, 2, 2, 2, 2, 0, 0, 0, 0, 0, 0, 0, 0, 0, 0, 0, 0, 0, 0, 0,\n",
       "       0, 0, 0, 0, 0, 0, 0, 0, 0, 0, 0, 0, 0, 0, 0, 0, 0, 0, 0, 0, 0, 0,\n",
       "       0, 0, 0, 0, 0, 0, 0, 0, 0, 0, 0, 0, 0, 0, 0, 0, 0, 0, 0, 0, 0, 0,\n",
       "       0, 0, 0, 0, 0, 0, 0, 0, 0, 0, 0, 0, 0, 0, 0, 0, 0, 0, 0, 0, 0, 0,\n",
       "       0, 0, 0, 0, 0, 0, 0, 0, 0, 0, 0, 0, 0, 0, 0, 0, 0, 0, 0, 0, 0, 0,\n",
       "       0, 0, 0, 0, 0, 0, 0, 0, 0, 0, 0, 0, 0, 0, 0, 0, 0, 0, 0, 0, 0, 0,\n",
       "       0, 0, 0, 0, 0, 0, 0, 0, 0, 0, 0, 0, 0, 0, 0])"
      ]
     },
     "execution_count": 404,
     "metadata": {},
     "output_type": "execute_result"
    }
   ],
   "source": [
    "k = 3\n",
    "kmeans = KMeans(n_clusters = k ,\n",
    "                        init = 'k-means++',\n",
    "                        n_init = 10,\n",
    "                        max_iter=300,\n",
    "                        tol = 0.0001,\n",
    "                        random_state= 123 ,\n",
    "                        algorithm='elkan') \n",
    "\n",
    "kmeans.fit(df[actual_features])\n",
    "y_pred_3 = kmeans.predict(df[actual_features])\n",
    "y_pred_3"
   ]
  },
  {
   "cell_type": "code",
   "execution_count": 405,
   "metadata": {},
   "outputs": [
    {
     "data": {
      "text/plain": [
       "0.6504842583965339"
      ]
     },
     "execution_count": 405,
     "metadata": {},
     "output_type": "execute_result"
    }
   ],
   "source": [
    "silhouette_score(df[actual_features], kmeans.labels_)"
   ]
  },
  {
   "cell_type": "markdown",
   "metadata": {},
   "source": [
    ">**Observación**\n",
    ">- El Silhouette score es bastante bajo, por lo general debe estar cercano al 1 para obtener clusters bien formados, en este caso se tiene un valor de 0.65048."
   ]
  },
  {
   "cell_type": "code",
   "execution_count": 406,
   "metadata": {},
   "outputs": [],
   "source": [
    "df['cluster3'] = y_pred_3"
   ]
  },
  {
   "cell_type": "markdown",
   "metadata": {},
   "source": [
    "**7.3.Gráfica de Clusters**"
   ]
  },
  {
   "cell_type": "code",
   "execution_count": 407,
   "metadata": {},
   "outputs": [
    {
     "data": {
      "image/png": "[encoded data removed]",
      "text/plain": [
       "<Figure size 640x480 with 1 Axes>"
      ]
     },
     "metadata": {},
     "output_type": "display_data"
    }
   ],
   "source": [
    "plt.scatter(df['Edad_imp'],df['Nivel_Compra_imp'], c= df['cluster3'])\n",
    "plt.xlabel('Edad')\n",
    "plt.ylabel('Nivel de compras ($)');"
   ]
  },
  {
   "cell_type": "markdown",
   "metadata": {},
   "source": [
    ">**Observación**\n",
    ">- Se puede observar que nuestra segmentación se realizo de manera correcta y se tiene 3 clusters bien distribuidos y se infiere los siguientes segmentos:\n",
    "---\n",
    ">- **Cluster 1:** edades entre 20-40 y nivel de gasto entre 500 y 1500\n",
    ">- **Cluster 2:** edades entre 35-60 y nivel de gasto entre 1500-2250\n",
    ">- **Cluster 3:** edades de 60 en adelante y nivel de gasto entre 1000 y 2000"
   ]
  },
  {
   "cell_type": "markdown",
   "metadata": {},
   "source": [
    "<a id='sec_8'></a>\n",
    "## `8. Conclusiones y Recomendaciones`\n",
    "\n",
    "En etapa debemos de dar nuestras conclusiones y recomendaciones. \n",
    "\n",
    "Etapas:\n",
    "\n",
    "1. Conclusiones \n",
    "2. Recomendaciones"
   ]
  },
  {
   "cell_type": "markdown",
   "metadata": {},
   "source": [
    "**8.1 Conclusiones**"
   ]
  },
  {
   "cell_type": "markdown",
   "metadata": {},
   "source": [
    ">- De acuerdo a nuestro analisis exploratorio , analisis predictivo(clasificación), se puede concluir que nuestra mejor clusterización de clientes del super market es de 3 grupos el cual esto tambien dependera de muchos factores ya sea por la empresa o otros factores ajenos a ello.\n",
    ">- Luego de realizar la segmentación se pudo observar en cuanto a los clientes , lo siguiente:\n",
    ">- `Cluster 1:` edades entre 20-40 y nivel de gasto entre 500 y 1500\n",
    ">- `Cluster 2:` edades entre 35-60 y nivel de gasto entre 1500-2250\n",
    ">- `Cluster 3:` edades de 60 en adelante y nivel de gasto entre 1000 y 2000"
   ]
  },
  {
   "cell_type": "markdown",
   "metadata": {},
   "source": [
    "**8.2 Recomendación**"
   ]
  },
  {
   "cell_type": "markdown",
   "metadata": {},
   "source": [
    ">- Se recomienda que se pueda usar otros tipos de `Algoritmo de agrupamiento` para poder mejorar la clusterización.\n",
    ">- Se recomienda revisar o tratar `valores outliers` de mejor manera debido a que se cuenta en varios outliers.\n",
    ">- Se recomienda poder usar `Deep Learning` para poder mejorar nuestra clasificación. "
   ]
  }
 ],
 "metadata": {
  "kernelspec": {
   "display_name": "Python 3",
   "language": "python",
   "name": "python3"
  },
  "language_info": {
   "codemirror_mode": {
    "name": "ipython",
    "version": 3
   },
   "file_extension": ".py",
   "mimetype": "text/x-python",
   "name": "python",
   "nbconvert_exporter": "python",
   "pygments_lexer": "ipython3",
   "version": "3.11.9"
  }
 },
 "nbformat": 4,
 "nbformat_minor": 2
}
