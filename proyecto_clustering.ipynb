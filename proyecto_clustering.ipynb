{
 "cells": [
  {
   "cell_type": "markdown",
   "metadata": {},
   "source": [
    "# <p style=\"background-color:#006D77;font-family:newtimeroman;color:#ffffff;font-size:150%;text-align:center;border-radius:10px 10px;\">Proyecto Clustering Clientes SuperMarket</p>\n",
    "---"
   ]
  },
  {
   "cell_type": "markdown",
   "metadata": {},
   "source": [
    "[![Clustering-numpy.png](https://i.postimg.cc/3Nh5ZW6t/Clustering-numpy.png)](https://postimg.cc/wywGqx9N)"
   ]
  },
  {
   "cell_type": "markdown",
   "metadata": {},
   "source": [
    "<div class=\"alert alert-block alert-info\" style=\"margin-top: 20px\">\n",
    "\n",
    "<font size = 3>\n",
    "    \n",
    "1. <a href=\"#sec_1\">Introducción</a>  \n",
    "2. <a href=\"#sec_2\">Exploración del set de datos</a>  \n",
    "3. <a href=\"#sec_3\">Selección de Muestras</a>  \n",
    "4. <a href=\"#sec_4\">Pre-selección de variables</a>  \n",
    "5. <a href=\"#sec_5\">Preparación de datos</a>\n",
    "6. <a href=\"#sec_6\">Modelo de regresión Lineal</a>  \n",
    "7. <a href=\"#sec_7\">Métricas de desempeño</a> \n",
    "8. <a href=\"#sec_8\">Conclusiones y Recomendaciones</a>     \n",
    "\n",
    " \n",
    "</font>\n",
    "</div>"
   ]
  },
  {
   "cell_type": "markdown",
   "metadata": {},
   "source": [
    "<a id='sec_1'></a>\n",
    "## `1. Introducción`\n",
    "`🔍 Segmentación Inteligente de Clientes  🔍` \n",
    "\n",
    "- En el dinámico mundo del comercio y los servicios, cada cliente es único y tiene sus propias necesidades, preferencias y comportamientos. 🛍️ Nuestro proyecto se enfoca en analizar un conjunto de datos detallado de clientes para identificar patrones y características clave que nos permitan agruparlos de manera eficiente. A través de técnicas avanzadas de clustering 🔗, exploramos atributos como el historial de compras 💳, la frecuencia de visitas 📅, el valor promedio de los pedidos 🛒, y la interacción con campañas de marketing 📢\n",
    "\n",
    "- Con esta segmentación, buscamos crear perfiles de clientes que permitan personalizar ofertas, mejorar la experiencia del cliente y optimizar las estrategias de marketing. 🎯 Cada grupo de clientes tiene una historia que contar, y nuestro análisis nos ayuda a entenderla mejor, proporcionando una ventaja competitiva en el mercado. 📈✨"
   ]
  }
 ],
 "metadata": {
  "language_info": {
   "name": "python"
  }
 },
 "nbformat": 4,
 "nbformat_minor": 2
}
